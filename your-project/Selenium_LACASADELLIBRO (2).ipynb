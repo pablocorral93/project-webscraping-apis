{
 "cells": [
  {
   "cell_type": "markdown",
   "metadata": {
    "id": "_A4vM4q0R9V6"
   },
   "source": [
    "# We are going to write a script that will web scrape the latest data analytics positions from LinkedIn in a Location we choose:"
   ]
  },
  {
   "cell_type": "markdown",
   "metadata": {
    "id": "-2c20QX4R9V-"
   },
   "source": [
    "####  Download libraries if you haven't done before:"
   ]
  },
  {
   "cell_type": "code",
   "execution_count": 111,
   "metadata": {
    "colab": {
     "base_uri": "https://localhost:8080/"
    },
    "id": "rfKehGlIdDw-",
    "outputId": "3ce7db5b-a575-4c5e-873b-c322fb6ba2cc"
   },
   "outputs": [
    {
     "name": "stdout",
     "output_type": "stream",
     "text": [
      "Requirement already satisfied: selenium in ./anaconda3/lib/python3.11/site-packages (4.15.2)\n",
      "Requirement already satisfied: urllib3[socks]<3,>=1.26 in ./anaconda3/lib/python3.11/site-packages (from selenium) (1.26.16)\n",
      "Requirement already satisfied: trio~=0.17 in ./anaconda3/lib/python3.11/site-packages (from selenium) (0.23.1)\n",
      "Requirement already satisfied: trio-websocket~=0.9 in ./anaconda3/lib/python3.11/site-packages (from selenium) (0.11.1)\n",
      "Requirement already satisfied: certifi>=2021.10.8 in ./anaconda3/lib/python3.11/site-packages (from selenium) (2023.5.7)\n",
      "Requirement already satisfied: attrs>=20.1.0 in ./anaconda3/lib/python3.11/site-packages (from trio~=0.17->selenium) (22.1.0)\n",
      "Requirement already satisfied: sortedcontainers in ./anaconda3/lib/python3.11/site-packages (from trio~=0.17->selenium) (2.4.0)\n",
      "Requirement already satisfied: idna in ./anaconda3/lib/python3.11/site-packages (from trio~=0.17->selenium) (3.4)\n",
      "Requirement already satisfied: outcome in ./anaconda3/lib/python3.11/site-packages (from trio~=0.17->selenium) (1.3.0.post0)\n",
      "Requirement already satisfied: sniffio>=1.3.0 in ./anaconda3/lib/python3.11/site-packages (from trio~=0.17->selenium) (1.3.0)\n",
      "Requirement already satisfied: wsproto>=0.14 in ./anaconda3/lib/python3.11/site-packages (from trio-websocket~=0.9->selenium) (1.2.0)\n",
      "Requirement already satisfied: PySocks!=1.5.7,<2.0,>=1.5.6 in ./anaconda3/lib/python3.11/site-packages (from urllib3[socks]<3,>=1.26->selenium) (1.7.1)\n",
      "Requirement already satisfied: h11<1,>=0.9.0 in ./anaconda3/lib/python3.11/site-packages (from wsproto>=0.14->trio-websocket~=0.9->selenium) (0.14.0)\n",
      "Requirement already satisfied: webdriver_manager in ./anaconda3/lib/python3.11/site-packages (4.0.1)\n",
      "Requirement already satisfied: requests in ./anaconda3/lib/python3.11/site-packages (from webdriver_manager) (2.29.0)\n",
      "Requirement already satisfied: python-dotenv in ./anaconda3/lib/python3.11/site-packages (from webdriver_manager) (1.0.0)\n",
      "Requirement already satisfied: packaging in ./anaconda3/lib/python3.11/site-packages (from webdriver_manager) (23.0)\n",
      "Requirement already satisfied: charset-normalizer<4,>=2 in ./anaconda3/lib/python3.11/site-packages (from requests->webdriver_manager) (2.0.4)\n",
      "Requirement already satisfied: idna<4,>=2.5 in ./anaconda3/lib/python3.11/site-packages (from requests->webdriver_manager) (3.4)\n",
      "Requirement already satisfied: urllib3<1.27,>=1.21.1 in ./anaconda3/lib/python3.11/site-packages (from requests->webdriver_manager) (1.26.16)\n",
      "Requirement already satisfied: certifi>=2017.4.17 in ./anaconda3/lib/python3.11/site-packages (from requests->webdriver_manager) (2023.5.7)\n",
      "Requirement already satisfied: openpyxl in ./anaconda3/lib/python3.11/site-packages (3.0.10)\n",
      "Requirement already satisfied: et_xmlfile in ./anaconda3/lib/python3.11/site-packages (from openpyxl) (1.1.0)\n"
     ]
    }
   ],
   "source": [
    "!pip install selenium\n",
    "!pip install webdriver_manager\n",
    "!pip install openpyxl"
   ]
  },
  {
   "cell_type": "markdown",
   "metadata": {
    "id": "_TugFiqYdDxA"
   },
   "source": [
    "####  Importing the necessary libraries"
   ]
  },
  {
   "cell_type": "code",
   "execution_count": 112,
   "metadata": {
    "id": "K5fblUwuR9V-"
   },
   "outputs": [],
   "source": [
    "# this is the library that we will use to create break times in order to mimic human behaviour\n",
    "import time\n",
    "from getpass import getpass\n",
    "\n",
    "\n",
    "# Juicy stuff- these are the Classes we will use for interaction with a webpage:\n",
    "from selenium import webdriver\n",
    "from selenium.webdriver.chrome.options import Options\n",
    "from selenium.webdriver.common.keys import Keys\n",
    "from selenium.webdriver.chrome.service import Service\n",
    "from selenium.webdriver.common.by import By\n",
    "from webdriver_manager.chrome import ChromeDriverManager\n",
    "from selenium.webdriver.support.ui import WebDriverWait\n",
    "from selenium.webdriver.support import expected_conditions as EC\n",
    "\n",
    "\n",
    "# library for interacting with the operating system\n",
    "import os\n",
    "\n",
    "# you know pandas it's your best buddy\n",
    "import pandas as pd\n",
    "\n",
    "# library for directory location:\n",
    "\n",
    "import pathlib\n",
    "import os\n",
    "from os.path import join\n",
    "\n",
    "#Ignore warning -- Some methods are going to be deprecated and I didn't change all (mainly in the function scrapper)\n",
    "import warnings\n",
    "warnings.filterwarnings('ignore')\n"
   ]
  },
  {
   "cell_type": "markdown",
   "metadata": {
    "id": "dyKeDI1TR9WA"
   },
   "source": [
    "#### Webdrivers allows you to use a programming language in designing your test scripts"
   ]
  },
  {
   "cell_type": "code",
   "execution_count": 113,
   "metadata": {
    "colab": {
     "base_uri": "https://localhost:8080/",
     "height": 322
    },
    "id": "I5HHJRnxR9WA",
    "outputId": "81841311-b5e0-4c18-ae8d-a827c965259f"
   },
   "outputs": [],
   "source": [
    "chrome_options = Options()\n",
    "chrome_options.add_argument(\"--disable-notifications\")\n",
    "\n",
    "driver = webdriver.Chrome(service=Service(ChromeDriverManager().install()), options=chrome_options)\n"
   ]
  },
  {
   "cell_type": "code",
   "execution_count": 114,
   "metadata": {
    "colab": {
     "base_uri": "https://localhost:8080/",
     "height": 194
    },
    "id": "hg4HLHuER9WB",
    "outputId": "c1f9e35c-7797-4595-8f68-1a267b40e213"
   },
   "outputs": [],
   "source": [
    "# We open the website\n",
    "driver.get('https://www.casadellibro.com/libros/literatura-en-otros-idiomas/literatura-en-ingles/124002000')"
   ]
  },
  {
   "cell_type": "code",
   "execution_count": 115,
   "metadata": {},
   "outputs": [],
   "source": [
    "# We accept the cookies\n",
    "\n",
    "cookie_button = WebDriverWait(driver, 10).until(\n",
    "    EC.presence_of_element_located((By.ID, 'onetrust-accept-btn-handler'))\n",
    ")\n",
    "\n",
    "cookie_button.click()"
   ]
  },
  {
   "cell_type": "code",
   "execution_count": 116,
   "metadata": {},
   "outputs": [],
   "source": [
    "#We also Allow the notifications from the browser \n",
    "\n",
    "#notifications_message = WebDriverWait(driver, 10).until(\n",
    " #   EC.presence_of_element_located((By.XPATH, '//div[contains(text(), \"Show notifications\")]'))\n",
    "#)\n",
    "\n",
    "#driver.switch_to.alert.accept()"
   ]
  },
  {
   "cell_type": "markdown",
   "metadata": {
    "id": "_JqKmBh9R9WF"
   },
   "source": [
    "#### What is the book you want to search for?"
   ]
  },
  {
   "cell_type": "code",
   "execution_count": 117,
   "metadata": {
    "colab": {
     "base_uri": "https://localhost:8080/",
     "height": 245
    },
    "id": "aksOK7YbR9WF",
    "outputId": "f2a4c033-6cf5-4a36-b950-59419015aa22"
   },
   "outputs": [
    {
     "name": "stdout",
     "output_type": "stream",
     "text": [
      "What is the title of the book: River boy\n"
     ]
    }
   ],
   "source": [
    "# Wait for the search bar to be visible\n",
    "search_bar = WebDriverWait(driver, 15).until(\n",
    "    EC.visibility_of_element_located((By.CLASS_NAME, 'book-finder'))\n",
    ")\n",
    "\n",
    "\n",
    "# We type the book title into the search bar\n",
    "book_title = input('What is the title of the book: ')\n",
    "\n",
    "time.sleep(5)\n",
    "search_bar.send_keys(book_title)\n",
    "\n",
    "#time.sleep(5)\n",
    "#search_bar.send_keys(Keys.RETURN)\n"
   ]
  },
  {
   "cell_type": "code",
   "execution_count": 119,
   "metadata": {
    "id": "hL0pQX2YJ_Ha"
   },
   "outputs": [
    {
     "name": "stdout",
     "output_type": "stream",
     "text": [
      "Name or price element not found\n",
      "Name: ROLLERCOASTER: RIVER BOY, Current Price: 13,68 €\n",
      "Previous Price: 14,40 €\n",
      "Discount: -5%\n",
      "Name or price element not found\n"
     ]
    }
   ],
   "source": [
    "from selenium.common.exceptions import NoSuchElementException\n",
    "\n",
    "\n",
    "search_results = WebDriverWait(driver, 10).until(\n",
    "    EC.presence_of_all_elements_located((By.CSS_SELECTOR, 'article.x-result'))\n",
    ")\n",
    "\n",
    "# Print the name and price of the first three search results\n",
    "for result in search_results[:3]:\n",
    "    try:\n",
    "        name_element = result.find_element(By.CSS_SELECTOR, 'h2.x-text1-lg')\n",
    "        name = name_element.text.strip()\n",
    "\n",
    "        current_price_element = result.find_element(By.CSS_SELECTOR, 'div.x-result-current-price span.x-currency')\n",
    "        current_price = current_price_element.text.strip()\n",
    "\n",
    "        print(f\"Name: {name}, Current Price: {current_price}\")\n",
    "\n",
    "        # Check if previous price and discount elements are present\n",
    "        try:\n",
    "            previous_price_element = result.find_element(By.CSS_SELECTOR, 'div.x-result-previous-price span.x-currency')\n",
    "            previous_price = previous_price_element.text.strip()\n",
    "            print(f\"Previous Price: {previous_price}\")\n",
    "        except NoSuchElementException:\n",
    "            print(\"Previous Price not found\")\n",
    "\n",
    "        try:\n",
    "            discount_element = result.find_element(By.CSS_SELECTOR, 'span.x-text1-sm.x-text-neutral-0')\n",
    "            discount = discount_element.text.strip()\n",
    "            print(f\"Discount: {discount}\")\n",
    "        except NoSuchElementException:\n",
    "            print(\"Discount not found\")\n",
    "\n",
    "    except NoSuchElementException:\n",
    "        # Handle the case where the name or price element is not found\n",
    "        print(\"Name or price element not found\")"
   ]
  },
  {
   "cell_type": "code",
   "execution_count": null,
   "metadata": {
    "id": "W3uzrwwWJ_J_"
   },
   "outputs": [],
   "source": []
  }
 ],
 "metadata": {
  "colab": {
   "collapsed_sections": [
    "gM6LkxT5R9WH"
   ],
   "provenance": []
  },
  "kernelspec": {
   "display_name": "Python 3 (ipykernel)",
   "language": "python",
   "name": "python3"
  },
  "language_info": {
   "codemirror_mode": {
    "name": "ipython",
    "version": 3
   },
   "file_extension": ".py",
   "mimetype": "text/x-python",
   "name": "python",
   "nbconvert_exporter": "python",
   "pygments_lexer": "ipython3",
   "version": "3.11.3"
  }
 },
 "nbformat": 4,
 "nbformat_minor": 1
}
